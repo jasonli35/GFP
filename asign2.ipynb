{
 "cells": [
  {
   "cell_type": "code",
   "execution_count": 2,
   "metadata": {},
   "outputs": [
    {
     "name": "stdout",
     "output_type": "stream",
     "text": [
      "['fit', 'user_id', 'bust size', 'item_id', 'weight', 'rating', 'rented for', 'review_text', 'body type', 'review_summary', 'category', 'height', 'size', 'age', 'review_date']\n"
     ]
    }
   ],
   "source": [
    "#This session is for reading data\n",
    "import gzip\n",
    "from collections import defaultdict \n",
    "import json\n",
    "\n",
    "data_modcloth = []\n",
    "def readJSON(path):\n",
    "    f = gzip.open(path, 'rt')\n",
    "    f.readline()\n",
    "    for l in f:\n",
    "        yield l\n",
    "\n",
    "data_rent_the_way = []\n",
    "for l in readJSON(\"renttherunway_final_data.json.gz\"):\n",
    "    data_rent_the_way.append(l)\n",
    "# print(data_rent_the_way[0])\n",
    "\n",
    "\n",
    "one_rent_the_way = json.loads(data_rent_the_way[0])\n",
    "print(list(one_rent_the_way.keys()))"
   ]
  },
  {
   "cell_type": "markdown",
   "metadata": {},
   "source": [
    "do one hot encoding - body type, rented for, category"
   ]
  },
  {
   "cell_type": "code",
   "execution_count": 22,
   "metadata": {},
   "outputs": [
    {
     "name": "stdout",
     "output_type": "stream",
     "text": [
      "14637  of body type count is missing\n",
      "10  of rent_for are missing\n",
      "defaultdict(<class 'int'>, {'straight & narrow': '100000', 'pear': '010000', 'athletic': '001000', 'hourglass': '000100', 'full bust': '000010', 'petite': '000001', 'apple': '000000'})\n"
     ]
    }
   ],
   "source": [
    "#This session is one hot encoding code\n",
    "import numpy as np\n",
    "\n",
    "body_t_count = defaultdict(int)\n",
    "rent_for_count = defaultdict(int)\n",
    "category_count = defaultdict(int)\n",
    "\n",
    "count_missing_bt = 0 \n",
    "count_missing_rent_for = 0\n",
    "\n",
    "for d in data_rent_the_way:\n",
    "    one_interaction = json.loads(d)\n",
    "\n",
    "    if('body type' in one_interaction):\n",
    "        body_t_count[one_interaction['body type']] += 1\n",
    "    else:\n",
    "        count_missing_bt += 1\n",
    "    if('rented for' in one_interaction):\n",
    "        rent_for_count[one_interaction['rented for']] += 1\n",
    "    else:\n",
    "        count_missing_rent_for += 1\n",
    "    category_count[one_interaction['category']] += 1\n",
    "\n",
    "\n",
    "body_t_one_hot = defaultdict(int)\n",
    "rf_one_hot = defaultdict(int)\n",
    "category_one_hot = defaultdict(int)\n",
    "\n",
    "\n",
    "\n",
    "print(count_missing_bt, \" of body type count is missing\")\n",
    "print(count_missing_rent_for, \" of rent_for are missing\")\n",
    "\n",
    "\n",
    "# one hot encoding for boudy type\n",
    "bt_keys = list(body_t_count.keys())\n",
    "bt_one_hot_to_orig = defaultdict(str)\n",
    "\n",
    "total_bt = len(body_t_count)\n",
    "for i in range(len(bt_keys)):\n",
    "    one_hot = np.zeros(len(body_t_count) - 1, dtype=int)\n",
    "    if(i != total_bt - 1):\n",
    "        one_hot[i] = 1\n",
    "    \n",
    "    str_one_hot = ''.join(map(str, one_hot))\n",
    "    body_t_one_hot[bt_keys[i]] =  str_one_hot\n",
    "    bt_one_hot_to_orig[str_one_hot] = bt_keys[i]\n",
    "\n",
    "print(body_t_one_hot)\n",
    "\n",
    "\n",
    "#one hot encoding for rent for\n",
    "rf_keys = list(rent_for_count.keys())\n",
    "rf_one_hot_to_orig = defaultdict(str)\n",
    "\n",
    "total_rf = len(rent_for_count)\n",
    "for i in range(len(rf_keys)):\n",
    "    one_hot = np.zeros(len(rent_for_count) - 1, dtype=int)\n",
    "    if(i != total_rf - 1):\n",
    "        one_hot[i] = 1\n",
    "    \n",
    "    str_one_hot = ''.join(map(str, one_hot))\n",
    "    rf_one_hot[rf_keys[i]] =  str_one_hot\n",
    "    rf_one_hot_to_orig[str_one_hot] = rf_keys[i]\n",
    "\n",
    "#one hot encoding for catagory \n",
    "cat_keys = list(category_count.keys())\n",
    "cat_one_hot_to_orig = defaultdict(str)\n",
    "\n",
    "total_cat = len(category_count)\n",
    "for i in range(len(cat_keys)):\n",
    "    one_hot = np.zeros(len(category_count) - 1, dtype=int)\n",
    "    if(i != total_cat - 1):\n",
    "        one_hot[i] = 1\n",
    "    \n",
    "    str_one_hot = ''.join(map(str, one_hot))\n",
    "    category_one_hot[cat_keys[i]] =  str_one_hot\n",
    "    cat_one_hot_to_orig[str_one_hot] = cat_keys[i]\n",
    "\n"
   ]
  },
  {
   "cell_type": "code",
   "execution_count": 5,
   "metadata": {},
   "outputs": [
    {
     "name": "stdout",
     "output_type": "stream",
     "text": [
      "01000000\n",
      "party\n"
     ]
    }
   ],
   "source": [
    "print(rf_one_hot['party'])\n",
    "print(rf_one_hot_to_orig['01000000'])"
   ]
  },
  {
   "cell_type": "code",
   "execution_count": 23,
   "metadata": {},
   "outputs": [],
   "source": [
    "#Function you can call for One hot encoding\n",
    "\n",
    "\n",
    "# @return the one hot encoding of the body type\n",
    "# @param: type: string     the body type that are in the renttherunaway database\n",
    "def get_body_type_one_hot(bodyTypeName):\n",
    "    return body_t_one_hot[bodyTypeName]\n",
    "\n",
    "# @return: the body type that are in the renttherunaway database\n",
    "# @param type: string    the one hot encoding of the body type\n",
    "def body_type_one_hot_to_original(one_hot: str):\n",
    "    return bt_one_hot_to_orig[one_hot]\n",
    "\n",
    "# @return the one hot encoding of the rent for \n",
    "# @param: type: string     the rent for that are in the renttherunaway database\n",
    "def rent_for_one_hot(rentForType):\n",
    "    return rf_one_hot[rentForType]\n",
    "\n",
    "# @return: the rent for that are in the renttherunaway database\n",
    "# @param type: string    the one hot encoding of the rent for\n",
    "def rent_for_one_hot_to_original(one_hot: str):\n",
    "    return rf_one_hot_to_orig[one_hot]\n",
    "\n",
    "\n",
    "# @return the one hot encoding of the catagory\n",
    "# @param: type: string     the catagory for that are in the renttherunaway database\n",
    "def catagory_for_one_hot(catType):\n",
    "    return category_one_hot[catType]\n",
    "\n",
    "# @return: the rent for that are in the renttherunaway database\n",
    "# @param type: string    the one hot encoding of the rent for\n",
    "def catagory_one_hot_to_original(one_hot: str):\n",
    "    return cat_one_hot_to_orig[one_hot]"
   ]
  },
  {
   "cell_type": "code",
   "execution_count": 26,
   "metadata": {},
   "outputs": [
    {
     "name": "stdout",
     "output_type": "stream",
     "text": [
      "['gown', 'sheath', 'dress', 'leggings', 'top', 'jumpsuit', 'sweater', 'jacket', 'shirtdress', 'maxi', 'shift', 'romper', 'pants', 'shirt', 'mini', 'skirt', 'pullover', 'blouse', 'suit', 'coat', 'trench', 'bomber', 'cape', 'blazer', 'vest', 'duster', 'ballgown', 'tank', 'poncho', 'frock', 'tunic', 'cardigan', 'culottes', 'down', 'trouser', 'midi', 'pant', 'legging', 'print', 'knit', 'culotte', 'sweatshirt', 'peacoat', 'kaftan', 'overalls', 'jogger', 'tee', 'combo', 'henley', 'cami', 'blouson', 'turtleneck', 'trousers', 'overcoat', 'hoodie', 't-shirt', 'caftan', 'tight', 'kimono', 'for', 'crewneck', 'skirts', 'parka', 'buttondown', 'skort', 'sweatershirt', 'sweatpants', 'jeans']\n",
      "0000000000000000000000000000000010000000000000000000000000000000000\n",
      "culottes\n"
     ]
    }
   ],
   "source": [
    "print(cat_keys)\n",
    "print(catagory_for_one_hot('culottes'))\n",
    "print(catagory_one_hot_to_original(\"0000000000000000000000000000000010000000000000000000000000000000000\"))"
   ]
  }
 ],
 "metadata": {
  "kernelspec": {
   "display_name": "cse158",
   "language": "python",
   "name": "python3"
  },
  "language_info": {
   "codemirror_mode": {
    "name": "ipython",
    "version": 3
   },
   "file_extension": ".py",
   "mimetype": "text/x-python",
   "name": "python",
   "nbconvert_exporter": "python",
   "pygments_lexer": "ipython3",
   "version": "3.9.18"
  }
 },
 "nbformat": 4,
 "nbformat_minor": 2
}
