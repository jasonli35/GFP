{
 "cells": [
  {
   "cell_type": "code",
   "execution_count": 2,
   "metadata": {},
   "outputs": [],
   "source": [
    "#This session is for reading data\n",
    "import gzip\n",
    "from collections import defaultdict \n",
    "import json\n",
    "import numpy\n",
    "\n",
    "def readJSON(path):\n",
    "    f = gzip.open(path, 'rt')\n",
    "    f.readline()\n",
    "    for l in f:\n",
    "        yield l\n",
    "\n",
    "data_rent_the_way = []\n",
    "with open('renttherunway_final_data.json', 'r') as file:\n",
    "    for line in file:\n",
    "        # Convert each line into a dictionary\n",
    "        json_dict = json.loads(line)\n",
    "        #append the dictionary to the list\n",
    "        data_rent_the_way.append(json_dict)\n",
    "\n",
    "\n",
    "\n"
   ]
  },
  {
   "cell_type": "markdown",
   "metadata": {},
   "source": [
    "do one hot encoding - body type, rented for, category"
   ]
  },
  {
   "cell_type": "code",
   "execution_count": 3,
   "metadata": {},
   "outputs": [
    {
     "name": "stdout",
     "output_type": "stream",
     "text": [
      "defaultdict(<class 'int'>, {'fit': 142058, 'small': 25779, 'large': 24707})\n",
      "14637  of body type count is missing\n",
      "10  of rent_for are missing\n"
     ]
    }
   ],
   "source": [
    "#This session is one hot encoding code\n",
    "import numpy as np\n",
    "\n",
    "\n",
    "body_t_count = defaultdict(int)\n",
    "rent_for_count = defaultdict(int)\n",
    "category_count = defaultdict(int)\n",
    "fit_count = defaultdict(int)\n",
    "items_count = defaultdict(int)\n",
    "bsize_count = defaultdict(int)\n",
    "users_count= defaultdict(int)\n",
    "\n",
    "count_missing_bt = 0 \n",
    "count_missing_rent_for = 0\n",
    "\n",
    "bsize_fit_count = defaultdict(lambda: np.array([0, 0, 0]))\n",
    "\n",
    "category_fit_count = defaultdict(lambda: np.array([0, 0, 0],dtype=float))\n",
    "\n",
    "fit_index = {\"small\":0, \"fit\":1,\"large\":2}\n",
    "\n",
    "count_btype_fit_not_null = defaultdict(int)\n",
    "\n",
    "\n",
    "btype_fit_count = defaultdict(lambda: np.array([0, 0, 0],dtype=float))\n",
    "\n",
    "for d in data_rent_the_way:\n",
    "\n",
    "    bt = None\n",
    "    if('body type' in d):\n",
    "        bt = d['body type']\n",
    "        body_t_count[bt] += 1\n",
    "    else:\n",
    "        count_missing_bt += 1\n",
    "    if('rented for' in d):\n",
    "        rent_for_count[d['rented for']] += 1\n",
    "    else:\n",
    "        count_missing_rent_for += 1\n",
    "    \n",
    "    if('fit' in d):\n",
    "        fitting = d['fit']\n",
    "        fit_count[fitting] += 1\n",
    "\n",
    "        category_fit_count[d['category']][fit_index[fitting]] = 1 + category_fit_count[d['category']][fit_index[fitting]]\n",
    "        if(bt is not None):\n",
    "            btype_fit_count[bt][fit_index[fitting]] += 1\n",
    "            count_btype_fit_not_null[bt] += 1\n",
    "\n",
    "    if('item_id' in d):\n",
    "        items_count[d['item_id']] += 1\n",
    "    if(\"bust size\" in d):\n",
    "        bsize_count[d[\"bust size\"]] += 1\n",
    "        if(fitting == 'small'):\n",
    "            bsize_fit_count[d['bust size']][0] += 1\n",
    "        if(fitting == 'fit'):\n",
    "            bsize_fit_count[d['bust size']][1] += 1\n",
    "        if(fitting == 'large'):\n",
    "            bsize_fit_count[d['bust size']][2] += 1\n",
    "    \n",
    "    if(\"user_id\" in d):\n",
    "        users_count[d['user_id']] += 1\n",
    "\n",
    "    category_count[d['category']] += 1\n",
    "\n",
    "    \n",
    "\n",
    "print(fit_count)\n",
    "\n",
    "\n",
    "body_t_one_hot = defaultdict(int)\n",
    "rf_one_hot = defaultdict(int)\n",
    "category_one_hot = defaultdict(int)\n",
    "\n",
    "\n",
    "\n",
    "print(count_missing_bt, \" of body type count is missing\")\n",
    "print(count_missing_rent_for, \" of rent_for are missing\")\n",
    "\n",
    "\n",
    "# one hot encoding for boudy type\n",
    "bt_keys = list(body_t_count.keys())\n",
    "bt_one_hot_to_orig = defaultdict(str)\n",
    "\n",
    "total_bt = len(body_t_count)\n",
    "for i in range(len(bt_keys)):\n",
    "    one_hot = np.zeros(len(body_t_count) - 1, dtype=int)\n",
    "    if(i != total_bt - 1):\n",
    "        one_hot[i] = 1\n",
    "    \n",
    "    str_one_hot = ''.join(map(str, one_hot))\n",
    "    body_t_one_hot[bt_keys[i]] =  str_one_hot\n",
    "    bt_one_hot_to_orig[str_one_hot] = bt_keys[i]\n",
    "\n",
    "\n",
    "#one hot encoding for rent for\n",
    "rf_keys = list(rent_for_count.keys())\n",
    "rf_one_hot_to_orig = defaultdict(str)\n",
    "\n",
    "total_rf = len(rent_for_count)\n",
    "for i in range(len(rf_keys)):\n",
    "    one_hot = np.zeros(len(rent_for_count) - 1, dtype=int)\n",
    "    if(i != total_rf - 1):\n",
    "        one_hot[i] = 1\n",
    "    \n",
    "    str_one_hot = ''.join(map(str, one_hot))\n",
    "    rf_one_hot[rf_keys[i]] =  str_one_hot\n",
    "    rf_one_hot_to_orig[str_one_hot] = rf_keys[i]\n",
    "\n",
    "#one hot encoding for catagory \n",
    "cat_keys = list(category_count.keys())\n",
    "cat_one_hot_to_orig = defaultdict(str)\n",
    "\n",
    "total_cat = len(category_count)\n",
    "for i in range(len(cat_keys)):\n",
    "    one_hot = np.zeros(len(category_count) - 1, dtype=int)\n",
    "    if(i != total_cat - 1):\n",
    "        one_hot[i] = 1\n",
    "    \n",
    "    str_one_hot = ''.join(map(str, one_hot))\n",
    "    category_one_hot[cat_keys[i]] =  str_one_hot\n",
    "    cat_one_hot_to_orig[str_one_hot] = cat_keys[i]\n",
    "\n",
    "#one hot encoding for fit \n",
    "fit_keys = list(fit_count.keys())\n",
    "fit_one_hot_to_orig = defaultdict(str)\n",
    "fit_one_hot = defaultdict(str)\n",
    "\n",
    "total_fit = len(fit_count)\n",
    "\n",
    "for i in range(len(fit_keys)):\n",
    "    one_hot = np.zeros(len(fit_count) - 1, dtype=int)\n",
    "    if(i != total_fit - 1):\n",
    "        one_hot[i] = 1\n",
    "    \n",
    "    str_one_hot = ''.join(map(str, one_hot))\n",
    "    fit_one_hot[fit_keys[i]] =  str_one_hot\n",
    "    cat_one_hot_to_orig[str_one_hot] = fit_keys[i]\n",
    "\n",
    "\n",
    "#one hot encoding for bust size\n",
    "bsize_keys = list(bsize_count.keys())\n",
    "bsize_one_hot_to_orig = defaultdict(str)\n",
    "bsize_one_hot = defaultdict(str)\n",
    "\n",
    "total_bsize = len(bsize_count)\n",
    "\n",
    "for i in range(len(bsize_keys)):\n",
    "    one_hot = np.zeros(len(bsize_count) - 1, dtype=int)\n",
    "    if(i != total_bsize - 1):\n",
    "        one_hot[i] = 1\n",
    "    \n",
    "    str_one_hot = ''.join(map(str, one_hot))\n",
    "    bsize_one_hot[bsize_keys[i]] =  str_one_hot\n",
    "    bsize_one_hot_to_orig[str_one_hot] = bsize_keys[i]\n",
    "\n",
    "#one hot encoding for item id\n",
    "item_keys = list(items_count.keys())\n",
    "item_one_hot_to_orig = defaultdict(str)\n",
    "item_one_hot = defaultdict(str)\n",
    "\n",
    "total_items= len(items_count)\n",
    "\n",
    "for i in range(len(items_count)):\n",
    "    one_hot = np.zeros(len(items_count) - 1, dtype=int)\n",
    "    if(i != total_items - 1):\n",
    "        one_hot[i] = 1\n",
    "    \n",
    "    str_one_hot = ''.join(map(str, one_hot))\n",
    "    item_one_hot[item_keys[i]] =  str_one_hot\n",
    "    bsize_one_hot_to_orig[str_one_hot] = item_keys[i]\n",
    "\n",
    "\n",
    "\n"
   ]
  },
  {
   "cell_type": "code",
   "execution_count": 3,
   "metadata": {},
   "outputs": [
    {
     "data": {
      "text/plain": [
       "defaultdict(<function __main__.<lambda>()>,\n",
       "            {'34b': array([ 3506, 20386,  3393]),\n",
       "             '34c': array([ 3137, 16930,  3072]),\n",
       "             '32b': array([1302, 8118, 1491]),\n",
       "             '34d+': array([ 182, 1049,  186]),\n",
       "             '36d': array([1643, 8150, 1329]),\n",
       "             '36a': array([ 285, 1530,  272]),\n",
       "             '34d': array([ 2516, 13216,  2296]),\n",
       "             '32d+': array([105, 709, 116]),\n",
       "             '36c': array([ 1852, 10065,  1599]),\n",
       "             '32c': array([1248, 7328, 1367]),\n",
       "             '32dd': array([ 242, 1236,  236]),\n",
       "             '30dd': array([14, 74, 14]),\n",
       "             '32d': array([1557, 8126, 1513]),\n",
       "             '36b': array([1366, 7121, 1189]),\n",
       "             '34a': array([ 992, 5886, 1013]),\n",
       "             '34dd': array([ 363, 1956,  346]),\n",
       "             '40ddd/e': array([ 4, 33, 10]),\n",
       "             '32a': array([ 585, 3811,  698]),\n",
       "             '38d+': array([ 91, 487,  83]),\n",
       "             '38c': array([ 363, 1969,  337]),\n",
       "             '34ddd/e': array([137, 733, 160]),\n",
       "             '38a': array([13, 64,  5]),\n",
       "             '38b': array([141, 759, 132]),\n",
       "             '38d': array([ 616, 3014,  629]),\n",
       "             '36ddd/e': array([ 54, 320,  71]),\n",
       "             '38dd': array([ 75, 394,  51]),\n",
       "             '38f': array([ 7, 33,  8]),\n",
       "             '42dd': array([ 7, 37,  5]),\n",
       "             '36dd': array([ 237, 1083,  148]),\n",
       "             '40g': array([ 3, 12,  1]),\n",
       "             '40dd': array([13, 85, 17]),\n",
       "             '28f': array([ 1, 15,  4]),\n",
       "             '30ddd/e': array([15, 81, 12]),\n",
       "             '32ddd/e': array([120, 531,  75]),\n",
       "             '28b': array([ 7, 55, 11]),\n",
       "             '36d+': array([124, 714, 110]),\n",
       "             '40d': array([26, 99, 20]),\n",
       "             '28dd': array([ 7, 24,  0]),\n",
       "             '34f': array([15, 90, 16]),\n",
       "             '42c': array([ 7, 31,  8]),\n",
       "             '30d': array([ 25, 143,  27]),\n",
       "             '30b': array([10, 67, 26]),\n",
       "             '42d': array([ 1, 36,  7]),\n",
       "             '34aa': array([ 40, 197,  43]),\n",
       "             '32aa': array([ 50, 235,  46]),\n",
       "             '36f': array([10, 48,  8]),\n",
       "             '28c': array([ 3, 51,  2]),\n",
       "             '40b': array([ 1, 12,  4]),\n",
       "             '36aa': array([ 8, 51,  7]),\n",
       "             '34g': array([18, 81, 16]),\n",
       "             '32f': array([ 16, 108,  21]),\n",
       "             '42ddd/e': array([ 4, 22,  4]),\n",
       "             '40c': array([ 9, 69, 11]),\n",
       "             '28g': array([0, 7, 0]),\n",
       "             '28aa': array([ 2, 11,  4]),\n",
       "             '36g': array([ 8, 73, 13]),\n",
       "             '30a': array([12, 53,  7]),\n",
       "             '44ddd/e': array([2, 7, 2]),\n",
       "             '30c': array([ 10, 125,  28]),\n",
       "             '30aa': array([2, 4, 2]),\n",
       "             '44dd': array([ 2, 32,  2]),\n",
       "             '32i': array([2, 5, 0]),\n",
       "             '32g': array([18, 98, 12]),\n",
       "             '30g': array([ 6, 18,  1]),\n",
       "             '38h': array([ 1, 22,  1]),\n",
       "             '30h': array([ 2, 10,  1]),\n",
       "             '34j': array([3, 6, 2]),\n",
       "             '38ddd/e': array([ 22, 137,  31]),\n",
       "             '32h': array([ 6, 19,  5]),\n",
       "             '28a': array([ 5, 49,  6]),\n",
       "             '44d': array([0, 9, 0]),\n",
       "             '40h': array([1, 7, 1]),\n",
       "             '38g': array([ 8, 30,  9]),\n",
       "             '34h': array([ 7, 42,  8]),\n",
       "             '36j': array([0, 4, 2]),\n",
       "             '40f': array([1, 5, 3]),\n",
       "             '36h': array([ 2, 15,  3]),\n",
       "             '28ddd/e': array([1, 8, 3]),\n",
       "             '44f': array([0, 4, 1]),\n",
       "             '34i': array([ 0, 11,  2]),\n",
       "             '30f': array([ 7, 25,  4]),\n",
       "             '36i': array([1, 6, 0]),\n",
       "             '30i': array([1, 3, 3]),\n",
       "             '28h': array([0, 0, 1]),\n",
       "             '42b': array([0, 9, 0]),\n",
       "             '42j': array([0, 1, 0]),\n",
       "             '32j': array([1, 3, 3]),\n",
       "             '46c': array([0, 4, 0]),\n",
       "             '48d': array([0, 1, 1]),\n",
       "             '38aa': array([1, 5, 2]),\n",
       "             '38i': array([2, 2, 0]),\n",
       "             '48dd': array([0, 3, 0]),\n",
       "             '28d': array([0, 7, 0]),\n",
       "             '28i': array([0, 1, 0]),\n",
       "             '46ddd/e': array([1, 2, 0]),\n",
       "             '42g': array([0, 6, 0]),\n",
       "             '44c': array([0, 8, 1]),\n",
       "             '42f': array([0, 7, 0]),\n",
       "             '40j': array([1, 1, 0]),\n",
       "             '38j': array([0, 1, 2]),\n",
       "             '46f': array([0, 1, 0]),\n",
       "             '44b': array([0, 3, 1]),\n",
       "             '44g': array([0, 2, 0]),\n",
       "             '42h': array([0, 0, 1]),\n",
       "             '40i': array([0, 0, 1]),\n",
       "             '44h': array([1, 0, 0])})"
      ]
     },
     "execution_count": 3,
     "metadata": {},
     "output_type": "execute_result"
    }
   ],
   "source": [
    "bsize_fit_count"
   ]
  },
  {
   "cell_type": "code",
   "execution_count": 4,
   "metadata": {},
   "outputs": [],
   "source": [
    "#Function you can call for One hot encoding\n",
    "\n",
    "\n",
    "# @return the one hot encoding of the body type\n",
    "# @param: type: string     the body type that are in the renttherunaway database\n",
    "def get_body_type_one_hot(bodyTypeName):\n",
    "    return body_t_one_hot[bodyTypeName]\n",
    "\n",
    "# @return: the body type that are in the renttherunaway database\n",
    "# @param type: string    the one hot encoding of the body type\n",
    "def body_type_one_hot_to_original(one_hot: str):\n",
    "    return bt_one_hot_to_orig[one_hot]\n",
    "\n",
    "# @return the one hot encoding of the rent for \n",
    "# @param: type: string     the rent for that are in the renttherunaway database\n",
    "def rent_for_one_hot(rentForType):\n",
    "    return rf_one_hot[rentForType]\n",
    "\n",
    "# @return: the rent for that are in the renttherunaway database\n",
    "# @param type: string    the one hot encoding of the rent for\n",
    "def rent_for_one_hot_to_original(one_hot: str):\n",
    "    return rf_one_hot_to_orig[one_hot]\n",
    "\n",
    "\n",
    "# @return the one hot encoding of the catagory\n",
    "# @param: type: string     the catagory for that are in the renttherunaway database\n",
    "def catagory_for_one_hot(catType):\n",
    "    return category_one_hot[catType]\n",
    "\n",
    "# @return: the rent for that are in the renttherunaway database\n",
    "# @param type: string    the one hot encoding of the rent for\n",
    "def catagory_one_hot_to_original(one_hot: str):\n",
    "    return cat_one_hot_to_orig[one_hot]\n",
    "\n",
    "\n",
    "# @return the one hot encoding of the catagory\n",
    "# @param: type: string     the catagory for that are in the renttherunaway database\n",
    "def fit_for_one_hot(fit):\n",
    "    return fit_one_hot[fit]\n",
    "\n",
    "# @return: the fit that are in the renttherunaway database\n",
    "# @param type: string    the one hot encoding of the fit\n",
    "def fit_one_hot_to_original(one_hot: str):\n",
    "    return fit_one_hot_to_orig[one_hot]\n",
    "\n",
    "# @return the one hot encoding of the bust size\n",
    "# @param: type: string     the bust size for that are in the renttherunaway database\n",
    "def bsize_for_one_hot(bsize):\n",
    "    return bsize_one_hot[bsize]\n",
    "\n",
    "# @return: the fit that are in the renttherunaway database\n",
    "# @param type: string    the one hot encoding of the fit\n",
    "def bsize_one_hot_to_original(one_hot: str):\n",
    "    return bsize_one_hot_to_orig[one_hot]\n",
    "\n",
    "\n",
    "# @return the one hot encoding of the bust size\n",
    "# @param: type: string     the bust size for that are in the renttherunaway database\n",
    "def get_item_one_hot(item_id):\n",
    "    return item_one_hot[item_id]\n",
    "\n",
    "# @return: the fit that are in the renttherunaway database\n",
    "# @param type: string    the one hot encoding of the fit\n",
    "def item_one_hot_to_original(one_hot: str):\n",
    "    return item_one_hot_to_orig[one_hot]\n",
    "\n"
   ]
  },
  {
   "cell_type": "code",
   "execution_count": 27,
   "metadata": {},
   "outputs": [
    {
     "name": "stdout",
     "output_type": "stream",
     "text": [
      "defaultdict(<class 'str'>, {'34d': '100000000000000000000000000000000000000000000000000000000000000000000000000000000000000000000000000000000', '34b': '010000000000000000000000000000000000000000000000000000000000000000000000000000000000000000000000000000000', '34c': '001000000000000000000000000000000000000000000000000000000000000000000000000000000000000000000000000000000', '32b': '000100000000000000000000000000000000000000000000000000000000000000000000000000000000000000000000000000000', '34d+': '000010000000000000000000000000000000000000000000000000000000000000000000000000000000000000000000000000000', '36d': '000001000000000000000000000000000000000000000000000000000000000000000000000000000000000000000000000000000', '36a': '000000100000000000000000000000000000000000000000000000000000000000000000000000000000000000000000000000000', '32d+': '000000010000000000000000000000000000000000000000000000000000000000000000000000000000000000000000000000000', '36c': '000000001000000000000000000000000000000000000000000000000000000000000000000000000000000000000000000000000', '32c': '000000000100000000000000000000000000000000000000000000000000000000000000000000000000000000000000000000000', '32dd': '000000000010000000000000000000000000000000000000000000000000000000000000000000000000000000000000000000000', '30dd': '000000000001000000000000000000000000000000000000000000000000000000000000000000000000000000000000000000000', '32d': '000000000000100000000000000000000000000000000000000000000000000000000000000000000000000000000000000000000', '36b': '000000000000010000000000000000000000000000000000000000000000000000000000000000000000000000000000000000000', '34a': '000000000000001000000000000000000000000000000000000000000000000000000000000000000000000000000000000000000', '34dd': '000000000000000100000000000000000000000000000000000000000000000000000000000000000000000000000000000000000', '40ddd/e': '000000000000000010000000000000000000000000000000000000000000000000000000000000000000000000000000000000000', '32a': '000000000000000001000000000000000000000000000000000000000000000000000000000000000000000000000000000000000', '38d+': '000000000000000000100000000000000000000000000000000000000000000000000000000000000000000000000000000000000', '38c': '000000000000000000010000000000000000000000000000000000000000000000000000000000000000000000000000000000000', '34ddd/e': '000000000000000000001000000000000000000000000000000000000000000000000000000000000000000000000000000000000', '38a': '000000000000000000000100000000000000000000000000000000000000000000000000000000000000000000000000000000000', '38b': '000000000000000000000010000000000000000000000000000000000000000000000000000000000000000000000000000000000', '38d': '000000000000000000000001000000000000000000000000000000000000000000000000000000000000000000000000000000000', '36ddd/e': '000000000000000000000000100000000000000000000000000000000000000000000000000000000000000000000000000000000', '38dd': '000000000000000000000000010000000000000000000000000000000000000000000000000000000000000000000000000000000', '38f': '000000000000000000000000001000000000000000000000000000000000000000000000000000000000000000000000000000000', '42dd': '000000000000000000000000000100000000000000000000000000000000000000000000000000000000000000000000000000000', '36dd': '000000000000000000000000000010000000000000000000000000000000000000000000000000000000000000000000000000000', '40g': '000000000000000000000000000001000000000000000000000000000000000000000000000000000000000000000000000000000', '40dd': '000000000000000000000000000000100000000000000000000000000000000000000000000000000000000000000000000000000', '28f': '000000000000000000000000000000010000000000000000000000000000000000000000000000000000000000000000000000000', '30ddd/e': '000000000000000000000000000000001000000000000000000000000000000000000000000000000000000000000000000000000', '32ddd/e': '000000000000000000000000000000000100000000000000000000000000000000000000000000000000000000000000000000000', '28b': '000000000000000000000000000000000010000000000000000000000000000000000000000000000000000000000000000000000', '36d+': '000000000000000000000000000000000001000000000000000000000000000000000000000000000000000000000000000000000', '40d': '000000000000000000000000000000000000100000000000000000000000000000000000000000000000000000000000000000000', '28dd': '000000000000000000000000000000000000010000000000000000000000000000000000000000000000000000000000000000000', '34f': '000000000000000000000000000000000000001000000000000000000000000000000000000000000000000000000000000000000', '42c': '000000000000000000000000000000000000000100000000000000000000000000000000000000000000000000000000000000000', '30d': '000000000000000000000000000000000000000010000000000000000000000000000000000000000000000000000000000000000', '30b': '000000000000000000000000000000000000000001000000000000000000000000000000000000000000000000000000000000000', '42d': '000000000000000000000000000000000000000000100000000000000000000000000000000000000000000000000000000000000', '34aa': '000000000000000000000000000000000000000000010000000000000000000000000000000000000000000000000000000000000', '32aa': '000000000000000000000000000000000000000000001000000000000000000000000000000000000000000000000000000000000', '36f': '000000000000000000000000000000000000000000000100000000000000000000000000000000000000000000000000000000000', '28c': '000000000000000000000000000000000000000000000010000000000000000000000000000000000000000000000000000000000', '40b': '000000000000000000000000000000000000000000000001000000000000000000000000000000000000000000000000000000000', '36aa': '000000000000000000000000000000000000000000000000100000000000000000000000000000000000000000000000000000000', '34g': '000000000000000000000000000000000000000000000000010000000000000000000000000000000000000000000000000000000', '32f': '000000000000000000000000000000000000000000000000001000000000000000000000000000000000000000000000000000000', '42ddd/e': '000000000000000000000000000000000000000000000000000100000000000000000000000000000000000000000000000000000', '40c': '000000000000000000000000000000000000000000000000000010000000000000000000000000000000000000000000000000000', '28g': '000000000000000000000000000000000000000000000000000001000000000000000000000000000000000000000000000000000', '28aa': '000000000000000000000000000000000000000000000000000000100000000000000000000000000000000000000000000000000', '36g': '000000000000000000000000000000000000000000000000000000010000000000000000000000000000000000000000000000000', '30a': '000000000000000000000000000000000000000000000000000000001000000000000000000000000000000000000000000000000', '44ddd/e': '000000000000000000000000000000000000000000000000000000000100000000000000000000000000000000000000000000000', '30c': '000000000000000000000000000000000000000000000000000000000010000000000000000000000000000000000000000000000', '30aa': '000000000000000000000000000000000000000000000000000000000001000000000000000000000000000000000000000000000', '44dd': '000000000000000000000000000000000000000000000000000000000000100000000000000000000000000000000000000000000', '32i': '000000000000000000000000000000000000000000000000000000000000010000000000000000000000000000000000000000000', '32g': '000000000000000000000000000000000000000000000000000000000000001000000000000000000000000000000000000000000', '30g': '000000000000000000000000000000000000000000000000000000000000000100000000000000000000000000000000000000000', '38h': '000000000000000000000000000000000000000000000000000000000000000010000000000000000000000000000000000000000', '30h': '000000000000000000000000000000000000000000000000000000000000000001000000000000000000000000000000000000000', '34j': '000000000000000000000000000000000000000000000000000000000000000000100000000000000000000000000000000000000', '38ddd/e': '000000000000000000000000000000000000000000000000000000000000000000010000000000000000000000000000000000000', '32h': '000000000000000000000000000000000000000000000000000000000000000000001000000000000000000000000000000000000', '28a': '000000000000000000000000000000000000000000000000000000000000000000000100000000000000000000000000000000000', '44d': '000000000000000000000000000000000000000000000000000000000000000000000010000000000000000000000000000000000', '40h': '000000000000000000000000000000000000000000000000000000000000000000000001000000000000000000000000000000000', '38g': '000000000000000000000000000000000000000000000000000000000000000000000000100000000000000000000000000000000', '34h': '000000000000000000000000000000000000000000000000000000000000000000000000010000000000000000000000000000000', '36j': '000000000000000000000000000000000000000000000000000000000000000000000000001000000000000000000000000000000', '40f': '000000000000000000000000000000000000000000000000000000000000000000000000000100000000000000000000000000000', '36h': '000000000000000000000000000000000000000000000000000000000000000000000000000010000000000000000000000000000', '28ddd/e': '000000000000000000000000000000000000000000000000000000000000000000000000000001000000000000000000000000000', '44f': '000000000000000000000000000000000000000000000000000000000000000000000000000000100000000000000000000000000', '34i': '000000000000000000000000000000000000000000000000000000000000000000000000000000010000000000000000000000000', '30f': '000000000000000000000000000000000000000000000000000000000000000000000000000000001000000000000000000000000', '36i': '000000000000000000000000000000000000000000000000000000000000000000000000000000000100000000000000000000000', '30i': '000000000000000000000000000000000000000000000000000000000000000000000000000000000010000000000000000000000', '28h': '000000000000000000000000000000000000000000000000000000000000000000000000000000000001000000000000000000000', '42b': '000000000000000000000000000000000000000000000000000000000000000000000000000000000000100000000000000000000', '42j': '000000000000000000000000000000000000000000000000000000000000000000000000000000000000010000000000000000000', '32j': '000000000000000000000000000000000000000000000000000000000000000000000000000000000000001000000000000000000', '46c': '000000000000000000000000000000000000000000000000000000000000000000000000000000000000000100000000000000000', '48d': '000000000000000000000000000000000000000000000000000000000000000000000000000000000000000010000000000000000', '38aa': '000000000000000000000000000000000000000000000000000000000000000000000000000000000000000001000000000000000', '38i': '000000000000000000000000000000000000000000000000000000000000000000000000000000000000000000100000000000000', '48dd': '000000000000000000000000000000000000000000000000000000000000000000000000000000000000000000010000000000000', '28d': '000000000000000000000000000000000000000000000000000000000000000000000000000000000000000000001000000000000', '28i': '000000000000000000000000000000000000000000000000000000000000000000000000000000000000000000000100000000000', '46ddd/e': '000000000000000000000000000000000000000000000000000000000000000000000000000000000000000000000010000000000', '42g': '000000000000000000000000000000000000000000000000000000000000000000000000000000000000000000000001000000000', '44c': '000000000000000000000000000000000000000000000000000000000000000000000000000000000000000000000000100000000', '42f': '000000000000000000000000000000000000000000000000000000000000000000000000000000000000000000000000010000000', '40j': '000000000000000000000000000000000000000000000000000000000000000000000000000000000000000000000000001000000', '38j': '000000000000000000000000000000000000000000000000000000000000000000000000000000000000000000000000000100000', '46f': '000000000000000000000000000000000000000000000000000000000000000000000000000000000000000000000000000010000', '44b': '000000000000000000000000000000000000000000000000000000000000000000000000000000000000000000000000000001000', '44g': '000000000000000000000000000000000000000000000000000000000000000000000000000000000000000000000000000000100', '42h': '000000000000000000000000000000000000000000000000000000000000000000000000000000000000000000000000000000010', '40i': '000000000000000000000000000000000000000000000000000000000000000000000000000000000000000000000000000000001', '44h': '000000000000000000000000000000000000000000000000000000000000000000000000000000000000000000000000000000000'})\n"
     ]
    }
   ],
   "source": [
    "print(bsize_one_hot)"
   ]
  },
  {
   "cell_type": "code",
   "execution_count": 28,
   "metadata": {},
   "outputs": [
    {
     "name": "stdout",
     "output_type": "stream",
     "text": [
      "46113\n",
      "15\n",
      "percent of data entry with at least one missing data 0.23949331061991025\n",
      "missing data count_numbers for each feature: defaultdict(<class 'int'>, {0: 146431, 3: 2756, 1: 30305, 2: 13052})\n"
     ]
    },
    {
     "data": {
      "image/png": "[encoded data removed]",
      "text/plain": [
       "<Figure size 640x480 with 1 Axes>"
      ]
     },
     "metadata": {},
     "output_type": "display_data"
    }
   ],
   "source": [
    "import matplotlib.pyplot as plt\n",
    "count_present_feature = defaultdict(int)\n",
    "count_numbers_missed_each_interactions = defaultdict(int)\n",
    "count_total_miss_interaction = 0\n",
    "\n",
    "for i in range(len(data_rent_the_way)):\n",
    "    one_interaction = data_rent_the_way[i].keys()\n",
    "    count_sum_fea = 0\n",
    "    for d in one_interaction:\n",
    "        count_present_feature[d] += 1\n",
    "        count_sum_fea += 1\n",
    "    count_numbers_missed_each_interactions[15 - count_sum_fea] += 1\n",
    "    if(count_sum_fea != 15):\n",
    "        count_total_miss_interaction += 1\n",
    "\n",
    "print(count_total_miss_interaction)\n",
    "print(count_sum_fea)\n",
    "        \n",
    "pecen = count_total_miss_interaction / len(data_rent_the_way)\n",
    "print(\"percent of data entry with at least one missing data\", pecen)\n",
    "\n",
    "print(\"missing data count_numbers for each feature:\", count_numbers_missed_each_interactions)\n",
    "\n",
    "categories = list(count_present_feature.keys())\n",
    "values = list(count_present_feature.values())\n",
    "\n",
    "# Plotting the histogram\n",
    "plt.bar(categories, values, color='skyblue', width=0.4)\n",
    "\n",
    "# Adding labels and title\n",
    "plt.xlabel('Categories')\n",
    "plt.ylabel('Numbers of present value in the dataset')\n",
    "\n",
    "plt.xticks(rotation='vertical')\n",
    "plt.title('Histogram with features on X-axis (Dictionary Data)')\n",
    "\n",
    "# Show the plot\n",
    "plt.show()"
   ]
  },
  {
   "cell_type": "code",
   "execution_count": 29,
   "metadata": {},
   "outputs": [],
   "source": [
    "#convert time stamp and transform data entries to dict\n",
    "from datetime import datetime\n",
    "\n",
    "\n",
    "date_format = \"%B %d, %Y\"\n",
    "for i in range(len(data_rent_the_way)):\n",
    "    \n",
    "    data_rent_the_way[i]['review_date'] = datetime.strptime(data_rent_the_way[i]['review_date'], date_format).timestamp()\n",
    "\n"
   ]
  },
  {
   "cell_type": "code",
   "execution_count": 7,
   "metadata": {},
   "outputs": [
    {
     "name": "stdout",
     "output_type": "stream",
     "text": [
      "[{'fit': 'fit', 'user_id': '273551', 'bust size': '34b', 'item_id': '153475', 'weight': '132lbs', 'rating': '10', 'rented for': 'other', 'review_text': 'I rented this dress for a photo shoot. The theme was \"Hollywood Glam and Big Beautiful Hats\". The dress was very comfortable and easy to move around in. It is definitely on my list to rent again for another formal event. ', 'body type': 'straight & narrow', 'review_summary': 'I felt so glamourous!!!', 'category': 'gown', 'height': '5\\' 6\"', 'size': 12, 'age': '36', 'review_date': 1371538800.0}, {'fit': 'fit', 'age': '116', 'size': 4, 'item_id': '1063761', 'rating': '10', 'rented for': 'party', 'review_text': 'This hugged in all the right places! It was a perfect dress for my event and I received so many compliments on it. Not to mention customer service was great getting this to me in less than 24 hours!', 'review_summary': 'It was a great time to celebrate the (almost) completion of my first year of law school.', 'category': 'sheath', 'height': '5\\' 4\"', 'user_id': '360448', 'review_date': 1450080000.0}, {'fit': 'fit', 'user_id': '909926', 'bust size': '34c', 'item_id': '126335', 'weight': '135lbs', 'rating': '8', 'rented for': 'formal affair', 'review_text': \"I rented this for my company's black tie awards banquet.  I liked that this dress was short but was a little fancier with the sequins. (I generally don't care for long dresses.)  I would describe the color as more rose gold than yellow gold.  I have blonde hair and fair skin, and the color was very flattering.  This is a very forgiving dress! It's form fitting without making you feel like you're squeezed into it.  I would rent this one again.  Highly recommend!\", 'body type': 'pear', 'review_summary': 'Dress arrived on time and in perfect condition. ', 'category': 'dress', 'height': '5\\' 5\"', 'size': 8, 'age': '34', 'review_date': 1392192000.0}, {'fit': 'fit', 'user_id': '151944', 'bust size': '34b', 'item_id': '616682', 'weight': '145lbs', 'rating': '10', 'rented for': 'wedding', 'review_text': \"I have always been petite in my upper body and extremely athletic. \\nI'm 5'9 and typically am a size 4,6,8 due to the fact I had a smaller upper frame and 34B cup. Depends what fabric were talking about too! \\nHowever, because I have been lifting weights my back has grown (odd to add- but figured I'd say it knowing other people lift weights) My lat area is so wide that I was suffocating in a size 6. If I wasn't as muscular in my back I would've been fine. I would recommend to go up a size if you are into lifting weights and very broad in your upper body. \", 'body type': 'athletic', 'review_summary': 'Was in love with this dress !!!', 'category': 'gown', 'height': '5\\' 9\"', 'size': 12, 'age': '27', 'review_date': 1474873200.0}, {'fit': 'fit', 'user_id': '734848', 'bust size': '32b', 'item_id': '364092', 'weight': '138lbs', 'rating': '8', 'rented for': 'date', 'review_text': \"Didn't actually wear it. It fit perfectly. The fabric is a little thicker, so higher quality. Felt a bit too conservative for my taste. I rented it for the color and loved the berry shade of red.\", 'body type': 'athletic', 'review_summary': 'Traditional with a touch a sass', 'category': 'dress', 'height': '5\\' 8\"', 'size': 8, 'age': '45', 'review_date': 1461999600.0}]\n"
     ]
    }
   ],
   "source": [
    "print(data_rent_the_way[:5])"
   ]
  },
  {
   "cell_type": "code",
   "execution_count": null,
   "metadata": {},
   "outputs": [],
   "source": []
  },
  {
   "cell_type": "code",
   "execution_count": 30,
   "metadata": {},
   "outputs": [
    {
     "name": "stdout",
     "output_type": "stream",
     "text": [
      "number of users 105571\n",
      "number of items 5850\n",
      "[('126335', 2241), ('174086', 1724), ('123793', 1714), ('132738', 1582), ('145906', 1478)]\n"
     ]
    }
   ],
   "source": [
    "users_interactions_count = defaultdict(int)\n",
    "items_interactions_count = defaultdict(int)\n",
    "for d in data_rent_the_way:\n",
    "    users_interactions_count[d['user_id']] += 1\n",
    "    items_interactions_count[d['item_id']] += 1\n",
    "\n",
    "print(\"number of users\", len(list(users_interactions_count.keys())))\n",
    "print(\"number of items\", len(list(items_interactions_count.keys())))\n",
    "\n",
    "sorted_items = sorted(items_interactions_count.items(), key=lambda x: x[1], reverse=True)\n",
    "print(sorted_items[:5])\n",
    "\n",
    "\n"
   ]
  },
  {
   "cell_type": "code",
   "execution_count": 31,
   "metadata": {},
   "outputs": [
    {
     "name": "stdout",
     "output_type": "stream",
     "text": [
      "{'C': 70, 'A': 50, 'D': 40, 'B': 30}\n"
     ]
    }
   ],
   "source": [
    "my_dict = {'A': 50, 'B': 30, 'C': 70, 'D': 40}\n",
    "\n",
    "# Sorting the dictionary items based on values in descending order\n",
    "sorted_items = sorted(my_dict.items(), key=lambda x: x[1], reverse=True)\n",
    "\n",
    "# Creating a new dictionary from the sorted items\n",
    "ranked_dict = {k: v for k, v in sorted_items}\n",
    "\n",
    "print(ranked_dict)"
   ]
  },
  {
   "cell_type": "code",
   "execution_count": 32,
   "metadata": {},
   "outputs": [
    {
     "name": "stdout",
     "output_type": "stream",
     "text": [
      "5850\n"
     ]
    },
    {
     "data": {
      "image/png": "[encoded data removed]",
      "text/plain": [
       "<Figure size 640x480 with 1 Axes>"
      ]
     },
     "metadata": {},
     "output_type": "display_data"
    }
   ],
   "source": [
    "#fit data\n",
    "print(len(items_count))\n",
    "fit_data = list(fit_count.keys())\n",
    "fit_values = list(fit_count.values())\n",
    "\n",
    "# Plotting the histogram\n",
    "plt.bar(fit_data, fit_values, color='skyblue', width=0.4)\n",
    "\n",
    "# Adding labels and title\n",
    "plt.xlabel('fit')\n",
    "plt.ylabel('Numbers of different fit in the dataset')\n",
    "\n",
    "plt.xticks(rotation='vertical')\n",
    "plt.title('Histogram with features on X-axis (Dictionary Data)')\n",
    "\n",
    "fit_datas = defaultdict(list)\n",
    "\n",
    "# for d in data_rent_the_way:\n",
    "#     fit_datas[fit_one_hot(d['fit'])].append()\n",
    "    \n",
    "    \n",
    "\n",
    "# Show the plot\n",
    "plt.show()"
   ]
  },
  {
   "cell_type": "code",
   "execution_count": null,
   "metadata": {},
   "outputs": [],
   "source": []
  },
  {
   "cell_type": "code",
   "execution_count": 33,
   "metadata": {},
   "outputs": [
    {
     "name": "stdout",
     "output_type": "stream",
     "text": [
      "105571\n",
      "192544\n",
      "32.91350427350427\n"
     ]
    }
   ],
   "source": [
    "import statistics\n",
    "user_id = set()\n",
    "for d in data_rent_the_way:\n",
    "    user_id.add(d['user_id'])\n",
    "print(len(user_id))\n",
    "print(len(data_rent_the_way))\n",
    "print(statistics.mean(items_count.values()))"
   ]
  },
  {
   "cell_type": "code",
   "execution_count": 5,
   "metadata": {},
   "outputs": [
    {
     "ename": "NameError",
     "evalue": "name 'categories' is not defined",
     "output_type": "error",
     "traceback": [
      "\u001b[0;31m---------------------------------------------------------------------------\u001b[0m",
      "\u001b[0;31mNameError\u001b[0m                                 Traceback (most recent call last)",
      "Cell \u001b[0;32mIn[5], line 5\u001b[0m\n\u001b[1;32m      3\u001b[0m \u001b[38;5;28;01mfor\u001b[39;00m d \u001b[38;5;129;01min\u001b[39;00m data_rent_the_way:\n\u001b[1;32m      4\u001b[0m     one_entries_keys \u001b[38;5;241m=\u001b[39m \u001b[38;5;28mlist\u001b[39m(d\u001b[38;5;241m.\u001b[39mkeys())\n\u001b[0;32m----> 5\u001b[0m     \u001b[38;5;28;01mfor\u001b[39;00m one_key \u001b[38;5;129;01min\u001b[39;00m \u001b[43mcategories\u001b[49m:\n\u001b[1;32m      7\u001b[0m         \u001b[38;5;28;01mif\u001b[39;00m(one_key \u001b[38;5;129;01min\u001b[39;00m one_entries_keys):\n\u001b[1;32m      8\u001b[0m             \u001b[38;5;28;01mif\u001b[39;00m(d[one_key] \u001b[38;5;241m==\u001b[39m \u001b[38;5;124m\"\u001b[39m\u001b[38;5;124m\"\u001b[39m):\n",
      "\u001b[0;31mNameError\u001b[0m: name 'categories' is not defined"
     ]
    }
   ],
   "source": [
    "#checking if there is missing value with keys presented\n",
    "\n",
    "for d in data_rent_the_way:\n",
    "    one_entries_keys = list(d.keys())\n",
    "    for one_key in categories:\n",
    "        \n",
    "        if(one_key in one_entries_keys):\n",
    "            if(d[one_key] == \"\"):\n",
    "                print(\"have empty \", one_key)\n",
    "            if(d[one_key] == None):\n",
    "                print(\"have empty \", one_key)\n"
   ]
  },
  {
   "cell_type": "code",
   "execution_count": 13,
   "metadata": {},
   "outputs": [
    {
     "name": "stdout",
     "output_type": "stream",
     "text": [
      "['fit', 'user_id', 'bust size', 'item_id', 'weight', 'rating', 'rented for', 'review_text', 'body type', 'review_summary', 'category', 'height', 'size', 'age', 'review_date']\n"
     ]
    }
   ],
   "source": [
    "print(categories)"
   ]
  },
  {
   "cell_type": "markdown",
   "metadata": {},
   "source": [
    " 'weight' 'bust size' body type height size age "
   ]
  },
  {
   "cell_type": "code",
   "execution_count": 5,
   "metadata": {},
   "outputs": [
    {
     "name": "stdout",
     "output_type": "stream",
     "text": [
      "5' 7\" is approximately 170.18 cm\n"
     ]
    }
   ],
   "source": [
    "\n",
    "def convert_weight_from_string(s):\n",
    "    numeric_part = \"\"\n",
    "    \n",
    "    for char in s:\n",
    "        if char.isdigit():\n",
    "            numeric_part += char\n",
    "        else:\n",
    "            break  # Exit the loop if a non-digit character is encountered\n",
    "    \n",
    "    if numeric_part:\n",
    "        return int(numeric_part)\n",
    "    else:\n",
    "        return None  # or raise an exception, depending on your needs\n",
    "    \n",
    "def height_to_cm(height_str):\n",
    "    # Split the input string into feet and inches\n",
    "    feet, inches = map(int, height_str.replace('\"', '').split(\"'\"))\n",
    "\n",
    "    # Convert feet and inches to centimeters\n",
    "    height_cm = (feet * 30.48) + (inches * 2.54)\n",
    "\n",
    "    return \"{:.2f}\".format(height_cm)\n",
    "\n",
    "# Example usage:\n",
    "height_str = \"5' 7\\\"\"\n",
    "height_cm = height_to_cm(height_str)\n",
    "\n",
    "print(f\"{height_str} is approximately {height_cm} cm\")\n",
    "\n"
   ]
  },
  {
   "cell_type": "code",
   "execution_count": 7,
   "metadata": {},
   "outputs": [],
   "source": [
    "from sklearn.utils import shuffle\n",
    "transformed_dataX = []\n",
    "transformed_Y = []\n",
    "\n",
    "for d in data_rent_the_way:\n",
    "    one_entries_keys = list(d.keys())\n",
    "\n",
    "    if('fit' in one_entries_keys and \"weight\" in one_entries_keys and 'bust size' in one_entries_keys and \"height\" in one_entries_keys and 'body type' in one_entries_keys and 'category' in one_entries_keys and 'size' != None and 'item_id' in one_entries_keys):\n",
    "        fitting = d['fit']\n",
    "\n",
    "        transformed_Y.append(fitting)\n",
    "\n",
    "\n",
    "\n",
    "\n",
    "        item = get_item_one_hot(d['item_id'])\n",
    "        weight = convert_weight_from_string(d['weight'])\n",
    "        bsize = bsize_for_one_hot(d['bust size'])\n",
    "        height = height_to_cm(d[\"height\"])\n",
    "        btype = get_body_type_one_hot(d[\"body type\"])\n",
    "\n",
    "        catagory = catagory_for_one_hot(d[\"category\"])\n",
    "    \n",
    "        # oneX = np.array([weight, bsize, height, btype, catagory, d['size'], item],dtype=float)\n",
    "        oneX = np.array([weight, height, btype, d['size']],dtype=float)\n",
    "\n",
    "        transformed_dataX.append(oneX)\n",
    "\n",
    "\n",
    "transformed_dataX = np.array(transformed_dataX)\n",
    "transformed_Y = np.array(transformed_Y) \n",
    "       \n",
    "\n",
    "X, y = shuffle(transformed_dataX, transformed_Y, random_state=42)\n",
    "cut_off_in = int(len(y) * 0.9)\n",
    "\n",
    "train_data = X[:cut_off_in]\n",
    "train_label = y[:cut_off_in]\n",
    "\n",
    "test_data = X[cut_off_in:]\n",
    "test_label = y[cut_off_in:]\n",
    "\n"
   ]
  },
  {
   "cell_type": "code",
   "execution_count": 16,
   "metadata": {},
   "outputs": [
    {
     "name": "stdout",
     "output_type": "stream",
     "text": [
      "[1.3200e+02 1.6764e+02 1.0000e+05 1.2000e+01]\n"
     ]
    }
   ],
   "source": [
    "print(transformed_dataX[0])"
   ]
  },
  {
   "cell_type": "code",
   "execution_count": 21,
   "metadata": {},
   "outputs": [
    {
     "name": "stdout",
     "output_type": "stream",
     "text": [
      "0.297696920141728\n"
     ]
    },
    {
     "name": "stderr",
     "output_type": "stream",
     "text": [
      "/Users/drake/miniconda3/envs/myenv/lib/python3.9/site-packages/sklearn/linear_model/_logistic.py:460: ConvergenceWarning: lbfgs failed to converge (status=1):\n",
      "STOP: TOTAL NO. of ITERATIONS REACHED LIMIT.\n",
      "\n",
      "Increase the number of iterations (max_iter) or scale the data as shown in:\n",
      "    https://scikit-learn.org/stable/modules/preprocessing.html\n",
      "Please also refer to the documentation for alternative solver options:\n",
      "    https://scikit-learn.org/stable/modules/linear_model.html#logistic-regression\n",
      "  n_iter_i = _check_optimize_result(\n"
     ]
    }
   ],
   "source": [
    "from sklearn.linear_model import LogisticRegression\n",
    "\n",
    "\n",
    "from sklearn.model_selection import cross_validate\n",
    "\n",
    "\n",
    "\n",
    "bestC = 1\n",
    "best_accur = 0\n",
    "for c in range(1,11):\n",
    "\n",
    "    clf_lgr = LogisticRegression(C=c/100, max_iter=10000)\n",
    "    # clf.fit(train_data, train_label)\n",
    "    cv = cross_validate(clf_lgr,train_data,train_label)\n",
    "    test_score_list = cv['test_score']\n",
    "    score = np.mean(test_score_list)\n",
    "    if(score > best_accur):\n",
    "        best_accur = score\n",
    "        bestC = c/100\n",
    "\n",
    "clf_lgr = LogisticRegression(C=bestC, class_weight=\"balanced\")\n",
    "clf_lgr.fit(train_data, train_label)\n",
    "predictions_linear_regression = clf_lgr.predict(test_data)\n",
    "\n",
    "accuracy_lgr = sum(1 for (p,l) in zip(predictions_linear_regression, test_label) if p == l) / len(test_label)\n",
    "print(accuracy_lgr)\n",
    "\n",
    "\n",
    "\n",
    "\n"
   ]
  },
  {
   "cell_type": "code",
   "execution_count": 18,
   "metadata": {},
   "outputs": [
    {
     "name": "stdout",
     "output_type": "stream",
     "text": [
      "0.16482692831834286\n"
     ]
    }
   ],
   "source": [
    "accuracy_lgr = sum(1 for (p,l) in zip(predictions_linear_regression, test_label) if p == 'fit') / len(test_label)\n",
    "print(accuracy_lgr)"
   ]
  },
  {
   "cell_type": "code",
   "execution_count": 19,
   "metadata": {},
   "outputs": [
    {
     "name": "stdout",
     "output_type": "stream",
     "text": [
      "0.28077042909068856\n"
     ]
    }
   ],
   "source": [
    "from sklearn import metrics\n",
    "f1_score = metrics.f1_score(test_label, predictions_linear_regression, average='weighted',zero_division=0)\n",
    "print(f1_score)"
   ]
  },
  {
   "cell_type": "code",
   "execution_count": null,
   "metadata": {},
   "outputs": [],
   "source": []
  },
  {
   "cell_type": "code",
   "execution_count": 20,
   "metadata": {},
   "outputs": [
    {
     "name": "stdout",
     "output_type": "stream",
     "text": [
      "accuracy for logistic regression  0.16482692831834286\n"
     ]
    }
   ],
   "source": [
    "print(\"accuracy for logistic regression \", accuracy_lgr)"
   ]
  },
  {
   "cell_type": "code",
   "execution_count": null,
   "metadata": {},
   "outputs": [
    {
     "name": "stdout",
     "output_type": "stream",
     "text": [
      "0.01\n"
     ]
    }
   ],
   "source": [
    "print(bestC)"
   ]
  },
  {
   "cell_type": "code",
   "execution_count": 23,
   "metadata": {},
   "outputs": [],
   "source": [
    "from sklearn.svm import SVC\n",
    "from sklearn.preprocessing import StandardScaler\n",
    "from sklearn.pipeline import make_pipeline\n",
    "\n",
    "bestC = 0\n",
    "best_accur = 0\n",
    "for c in [0.01,0.1,1,5,10]:\n",
    "    clf = SVC(C=c)\n",
    "    # clf.fit(train_data, train_label)\n",
    "    cv = cross_validate(clf,train_data,train_label)\n",
    "    test_score_list = cv['test_score']\n",
    "    score = np.mean(test_score_list)\n",
    "    if(score > best_accur):\n",
    "        best_accur = score\n",
    "        bestC = c\n",
    "\n",
    "\n",
    "\n"
   ]
  },
  {
   "cell_type": "code",
   "execution_count": null,
   "metadata": {},
   "outputs": [
    {
     "name": "stdout",
     "output_type": "stream",
     "text": [
      "1.0\n"
     ]
    }
   ],
   "source": [
    "clf = make_pipeline(StandardScaler(), SVC(C=bestC, class_weight=\"balanced\"))\n",
    "clf.fit(train_data, train_label)\n",
    "predictions = clf.predict(test_data)\n",
    "\n",
    "accuracy = sum(1 for (p,l) in zip(predictions, test_label) if p == l)\n",
    "print(sum(1 for p in predictions_linear_regression if p == 'fit') / len(test_label))"
   ]
  },
  {
   "cell_type": "code",
   "execution_count": 34,
   "metadata": {},
   "outputs": [
    {
     "name": "stdout",
     "output_type": "stream",
     "text": [
      "[1.3200e+002 1.0000e+104 1.6764e+002 1.0000e+005 1.2000e+001]\n"
     ]
    }
   ],
   "source": [
    "print(transformed_dataX[0])"
   ]
  },
  {
   "cell_type": "code",
   "execution_count": 48,
   "metadata": {},
   "outputs": [],
   "source": [
    "from sklearn.ensemble import RandomForestClassifier\n",
    "clf_rf = RandomForestClassifier(random_state=42, class_weight='balanced')\n",
    "clf_rf.fit(train_data, train_label)\n",
    "predictions_rf = clf_rf.predict(test_data)\n",
    "\n",
    "\n"
   ]
  },
  {
   "cell_type": "code",
   "execution_count": 49,
   "metadata": {},
   "outputs": [
    {
     "name": "stdout",
     "output_type": "stream",
     "text": [
      "0.5968928863450531\n"
     ]
    }
   ],
   "source": [
    "accuracy_p_fit = sum(1 for (p,l) in zip(predictions_rf, test_label) if p == l) / len(test_label)\n",
    "print(accuracy_p_fit)"
   ]
  },
  {
   "cell_type": "code",
   "execution_count": null,
   "metadata": {},
   "outputs": [
    {
     "name": "stdout",
     "output_type": "stream",
     "text": [
      "0.7331698010357045\n"
     ]
    }
   ],
   "source": [
    "from sklearn.model_selection import train_test_split\n",
    "from sklearn.naive_bayes import GaussianNB\n",
    "\n",
    "\n",
    "gnb = GaussianNB()\n",
    "y_pred = gnb.fit(train_data, train_label).predict(test_data)\n",
    "accuracy = sum(1 for (p,l) in zip(y_pred, test_label) if p == l) / len(test_label)\n",
    "print(accuracy)\n"
   ]
  },
  {
   "cell_type": "code",
   "execution_count": null,
   "metadata": {},
   "outputs": [],
   "source": [
    "#TF-IDF\n",
    "import string\n",
    "wordCount = defaultdict(int)\n",
    "punctuation = set(string.punctuation)\n",
    "print(data_rent_the_way[0])\n",
    "for d in data_rent_the_way:\n",
    "    r = ''.join([c for c in d['review_text'].lower() if not c in punctuation])\n",
    "    for w in r.split():\n",
    "        wordCount[w] += 1\n",
    "\n",
    "counts = [(wordCount[w], w) for w in wordCount]\n",
    "counts.sort()\n",
    "counts.reverse()\n"
   ]
  },
  {
   "cell_type": "code",
   "execution_count": null,
   "metadata": {},
   "outputs": [],
   "source": [
    "#n-gram implementation \n",
    "import string\n",
    "\n",
    "raw_documents = []\n",
    "punctuation = set(string.punctuation)\n",
    "for d in data_rent_the_way:\n",
    "    r = ''.join([c for c in d['review_text'].lower() if not c in punctuation])\n",
    "    raw_documents.append(r)\n",
    "\n",
    "from sklearn.feature_extraction.text import CountVectorizer\n",
    "\n",
    "vectorizer = CountVectorizer(ngram_range=(1, 2)) \n",
    "X = vectorizer.fit_transform(raw_documents)  \n",
    "\n",
    "#tf-idf with n-gram \n",
    "from sklearn.feature_extraction.text import TfidfTransformer\n",
    "\n",
    "tfidf_transformer = TfidfTransformer()\n",
    "X_tfidf = tfidf_transformer.fit_transform(X) \n"
   ]
  },
  {
   "cell_type": "code",
   "execution_count": 6,
   "metadata": {},
   "outputs": [],
   "source": [
    "from sklearn.feature_extraction.text import CountVectorizer, TfidfTransformer\n",
    "import numpy as np\n",
    "import string\n",
    "def generate_mapping(keys):\n",
    "    mapping = defaultdict(int)\n",
    "    index = 0\n",
    "    for i in keys:\n",
    "        mapping[i] = index\n",
    "        index += 1\n",
    "    return mapping\n",
    "punctuation = set(string.punctuation)\n",
    "uid_newKey = generate_mapping(users_count.keys())\n",
    "\n",
    "category_int_mapping = generate_mapping(list(category_count.keys()))\n",
    "\n",
    "items_int_mapping = generate_mapping(list(items_count))\n",
    "def is_valid_entry(d):\n",
    "    required_keys = ['category', 'size', 'rating', 'fit', 'body type']\n",
    "    return all(key in d and d[key] != None for key in required_keys)\n",
    "\n",
    "filtered_data = [d for d in data_rent_the_way if is_valid_entry(d)]\n",
    "\n",
    "\n",
    "raw_documents = []\n",
    "for d in filtered_data:\n",
    "    r = ''.join([c.lower() for c in d['review_text'] if c not in punctuation])\n",
    "    raw_documents.append(r)\n",
    "\n",
    "vectorizer = CountVectorizer(ngram_range=(1, 2))\n",
    "X = vectorizer.fit_transform(raw_documents)\n",
    "tfidf_transformer = TfidfTransformer()\n",
    "X_tfidf = tfidf_transformer.fit_transform(X)"
   ]
  },
  {
   "cell_type": "code",
   "execution_count": null,
   "metadata": {},
   "outputs": [],
   "source": [
    "\n",
    "#oversmaling using SMOTE due to ClusterCentroids taking so long to run\n",
    "from imblearn.over_sampling import SMOTE\n",
    "from collections import Counter\n",
    "Y = [d['fit'] for d in data_rent_the_way]\n",
    "sm = SMOTE()\n",
    "X_res, y_res = sm.fit_resample(X_tfidf, Y)\n",
    "print('Resampled dataset shape %s' % Counter(y_res))"
   ]
  },
  {
   "cell_type": "code",
   "execution_count": null,
   "metadata": {},
   "outputs": [],
   "source": [
    "# Shuffle the data\n",
    "X_res, y_res = shuffle(X_res, y_res, random_state=42)\n",
    "\n",
    "# Use shape[0] to get the number of rows in X_res\n",
    "cut_off_in = int(X_res.shape[0] / 9)\n",
    "train_oversample_x = X_res[:cut_off_in]\n",
    "train_oversample_y = y_res[:cut_off_in]\n",
    "\n",
    "test_oversample_x = X_res[cut_off_in:]\n",
    "test_oversample_y = y_res[cut_off_in:]"
   ]
  },
  {
   "cell_type": "code",
   "execution_count": null,
   "metadata": {},
   "outputs": [],
   "source": [
    "from sklearn.model_selection import train_test_split\n",
    "#Y = [d['fit'] for d in data_rent_the_way]\n",
    "#X_train, X_test, Y_train, Y_test = train_test_split(X_tfidf, Y, test_size=0.2, random_state=42)\n",
    "\n",
    "from sklearn.linear_model import LogisticRegression\n",
    "from sklearn.pipeline import make_pipeline\n",
    "from sklearn.preprocessing import StandardScaler\n",
    "\n",
    "clf_lgr = make_pipeline(StandardScaler(with_mean=False), LogisticRegression(C=95, max_iter=2000))\n",
    "clf_lgr.fit(train_oversample_x, train_oversample_y)\n",
    "\n",
    "# make predictions\n",
    "predictions = clf_lgr.predict(test_oversample_x)\n",
    "\n",
    "print_metric_score(predictions, test_oversample_y, \"logistic regression model\")"
   ]
  },
  {
   "cell_type": "markdown",
   "metadata": {},
   "source": [
    "RESULTS: Stat for  logistic regression model  Precision:  0.7003470568220483 ; Recall:  0.40675688494008283 . f1 =  0.5146237430181566 . Accuracy =  0.7437641723356009"
   ]
  },
  {
   "cell_type": "code",
   "execution_count": null,
   "metadata": {},
   "outputs": [],
   "source": [
    "#decision tree model \n",
    "from sklearn import tree\n",
    "\n",
    "clf_dt_over = tree.DecisionTreeClassifier()\n",
    "clf_dt_over = clf_dt_over.fit(train_oversample_x, train_oversample_y)\n",
    "predictions_dt = clf_dt_over.predict(test_oversample_x)\n",
    "print_metric_score(predictions_dt, test_oversample_y, \"decision tree using oversample data\")"
   ]
  },
  {
   "cell_type": "markdown",
   "metadata": {},
   "source": [
    "RESULTS: Stat for  decision tree using oversample data  Precision:  0.6922003126894484 ; Recall:  0.6859408100673475 . f1 =  0.6890563460805489 . Accuracy =  0.7932574659665962"
   ]
  },
  {
   "cell_type": "code",
   "execution_count": 14,
   "metadata": {},
   "outputs": [
    {
     "name": "stdout",
     "output_type": "stream",
     "text": [
      "177825\n",
      "177825\n"
     ]
    }
   ],
   "source": [
    "\n",
    "from sklearn.utils import shuffle\n",
    "transformed_dataX = []\n",
    "transformed_Y = []\n",
    "\n",
    "for d in filtered_data:\n",
    "    one_entries_keys = list(d.keys())\n",
    "\n",
    "    if('category' in one_entries_keys and 'size' != None and 'rating' in one_entries_keys and d['rating'] != None and 'fit' in d and 'size' in d and 'body type' in d):\n",
    "        fitting = d['fit']\n",
    "\n",
    "        transformed_Y.append(fitting)\n",
    "\n",
    "        # item = get_item_one_hot(d['item_id'])\n",
    "        # weight = convert_weight_from_string(d['weight'])\n",
    "        # bsize = bsize_for_one_hot(d['bust size'])\n",
    "        # height = height_to_cm(d[\"height\"])\n",
    "        btype = get_body_type_one_hot(d[\"body type\"])\n",
    "\n",
    "        catagory = catagory_for_one_hot(d[\"category\"])\n",
    "    \n",
    "        # oneX = np.array([weight, bsize, height, btype, catagory, d['size'], item],dtype=float)\n",
    "        oneX = np.array([d['size'], btype,catagory,d['rating']], dtype=float)\n",
    "\n",
    "        transformed_dataX.append(oneX)\n",
    "\n",
    "\n",
    "transformed_dataX = np.array(transformed_dataX)\n",
    "transformed_Y = np.array(transformed_Y) \n",
    "print(X_tfidf.shape[0])\n",
    "print(transformed_dataX.shape[0])\n",
    "       \n",
    "# Ensure both feature sets have the same length\n",
    "assert X_tfidf.shape[0] == transformed_dataX.shape[0]\n",
    "\n",
    "from scipy.sparse import hstack, csr_matrix\n",
    "\n",
    "# Convert transformed_dataX to a sparse matrix\n",
    "transformed_dataX_sparse = csr_matrix(transformed_dataX)\n",
    "\n",
    "combined_features = hstack([X_tfidf, transformed_dataX_sparse])\n"
   ]
  },
  {
   "cell_type": "code",
   "execution_count": 22,
   "metadata": {},
   "outputs": [
    {
     "name": "stdout",
     "output_type": "stream",
     "text": [
      "Stat for  decision tree using oversample data  Precision:  0.8208655267046654 ; Recall:  0.8340926836383605 . f1 =  0.8274262465315017 . Accuracy =  0.7434632149658056\n"
     ]
    }
   ],
   "source": [
    "\n",
    "def print_metric_score(predictions, actual_label, modelName):\n",
    "    tp= 0\n",
    "    fp = 0\n",
    "    fn = 0\n",
    "    for i in range (len(predictions)):\n",
    "        prediction = predictions[i]\n",
    "        actual = actual_label[i]\n",
    "        if(prediction == 'fit' and actual == 'fit'):\n",
    "            tp += 1\n",
    "        if(prediction == 'fit' and actual != 'fit'):\n",
    "            fp += 1\n",
    "        if(prediction != 'fit' and actual == 'fit'):\n",
    "            fn += 1\n",
    "    accuracy = sum(1 for (p,l) in zip(predictions, actual_label) if (p == 'fit' and l == 'fit') or (p != 'fit' and l != 'fit')) / len(actual_label)\n",
    "\n",
    "    precision = tp/ (tp + fp)\n",
    "    recall = tp / (tp + fn)\n",
    "    f1 = 2 * precision * recall / (recall + precision)\n",
    "\n",
    "    print(\"Stat for \", modelName, \" Precision: \", precision, \"; Recall: \", recall, \". f1 = \", f1, \". Accuracy = \", accuracy)\n",
    "\n",
    "from imblearn.over_sampling import SMOTE\n",
    "from collections import Counter\n",
    "\n",
    "combined_features, transformed_Y = shuffle(combined_features, transformed_Y, random_state=42)\n",
    "cut_off_in = int(len(transformed_Y) / 9)\n",
    "\n",
    "train_oversample_x = combined_features[:cut_off_in]\n",
    "train_oversample_y = transformed_Y[:cut_off_in]\n",
    "\n",
    "test_oversample_x = combined_features[cut_off_in:]\n",
    "test_oversample_y = transformed_Y[cut_off_in:]\n",
    "\n",
    "import numpy as np\n",
    "from sklearn.preprocessing import MaxAbsScaler\n",
    "# use MaxAbsScaler for sparse data\n",
    "scaler = MaxAbsScaler()\n",
    "train_oversample_x = scaler.fit_transform(train_oversample_x)\n",
    "test_oversample_x = scaler.fit_transform(test_oversample_x)\n",
    "\n",
    "sm = SMOTE()\n",
    "train_oversample_x, train_oversample_y = sm.fit_resample(train_oversample_x, train_oversample_y)\n",
    "\n",
    "from sklearn import tree\n",
    "\n",
    "clf_dt_over = tree.DecisionTreeClassifier()\n",
    "clf_dt_over = clf_dt_over.fit(train_oversample_x, train_oversample_y)\n",
    "predictions_dt = clf_dt_over.predict(test_oversample_x)\n",
    "print_metric_score(predictions_dt, test_oversample_y, \"decision tree using oversample data\")"
   ]
  },
  {
   "cell_type": "markdown",
   "metadata": {},
   "source": [
    "RESULTS: Stat for  decision tree using oversample data  Precision:  0.8208655267046654 ; Recall:  0.8340926836383605 . f1 =  0.8274262465315017 . Accuracy =  0.7434632149658056"
   ]
  }
 ],
 "metadata": {
  "interpreter": {
   "hash": "1f3c9fb300cba85b16f3bd915afed19d9ab93bc6501416eb04ad1646b9bab74c"
  },
  "kernelspec": {
   "display_name": "Python 3.9.18 ('myenv')",
   "language": "python",
   "name": "python3"
  },
  "language_info": {
   "codemirror_mode": {
    "name": "ipython",
    "version": 3
   },
   "file_extension": ".py",
   "mimetype": "text/x-python",
   "name": "python",
   "nbconvert_exporter": "python",
   "pygments_lexer": "ipython3",
   "version": "3.9.18"
  }
 },
 "nbformat": 4,
 "nbformat_minor": 2
}
